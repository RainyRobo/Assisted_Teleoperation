{
 "cells": [
  {
   "cell_type": "code",
   "metadata": {
    "ExecuteTime": {
     "end_time": "2025-07-08T03:57:17.384315Z",
     "start_time": "2025-07-08T03:57:17.373753Z"
    }
   },
   "source": [
    "import dataclasses\n",
    "\n",
    "import jax\n",
    "\n",
    "from openpi.models import model as _model\n",
    "from openpi.policies import droid_policy\n",
    "from openpi.policies import policy_config as _policy_config\n",
    "from openpi.shared import download\n",
    "from openpi.training import config as _config\n",
    "from openpi.training import data_loader as _data_loader"
   ],
   "outputs": [],
   "execution_count": 2
  },
  {
   "cell_type": "markdown",
   "metadata": {},
   "source": [
    "# Policy inference\n",
    "\n",
    "The following example shows how to create a policy from a checkpoint and run inference on a dummy example."
   ]
  },
  {
   "cell_type": "code",
   "metadata": {
    "ExecuteTime": {
     "end_time": "2025-07-08T03:58:29.591588Z",
     "start_time": "2025-07-08T03:57:19.381556Z"
    }
   },
   "source": [
    "config = _config.get_config(\"pi0_fast_droid\")\n",
    "checkpoint_dir = download.maybe_download(\"gs://openpi-assets/checkpoints/pi0_fast_droid\")\n",
    "\n",
    "# Create a trained policy.\n",
    "policy = _policy_config.create_trained_policy(config, checkpoint_dir)\n",
    "\n",
    "# Run inference on a dummy example. This example corresponds to observations produced by the DROID runtime.\n",
    "example = droid_policy.make_droid_example()\n",
    "result = policy.infer(example)\n",
    "\n",
    "# Delete the policy to free up memory.\n",
    "del policy\n",
    "\n",
    "print(\"Actions shape:\", result[\"actions\"].shape)"
   ],
   "outputs": [
    {
     "name": "stderr",
     "output_type": "stream",
     "text": [
      "ERROR:gcsfs:_request out of retries on exception: Cannot connect to host storage.googleapis.com:443 ssl:default [Connection reset by peer]\n",
      "Traceback (most recent call last):\n",
      "  File \"/home/research1/miniconda3/envs/openpi_io/lib/python3.11/site-packages/aiohttp/connector.py\", line 1263, in _wrap_create_connection\n",
      "    return await self._loop.create_connection(*args, **kwargs, sock=sock)\n",
      "           ^^^^^^^^^^^^^^^^^^^^^^^^^^^^^^^^^^^^^^^^^^^^^^^^^^^^^^^^^^^^^^\n",
      "  File \"/home/research1/miniconda3/envs/openpi_io/lib/python3.11/asyncio/base_events.py\", line 1113, in create_connection\n",
      "    transport, protocol = await self._create_connection_transport(\n",
      "                          ^^^^^^^^^^^^^^^^^^^^^^^^^^^^^^^^^^^^^^^^\n",
      "  File \"/home/research1/miniconda3/envs/openpi_io/lib/python3.11/asyncio/base_events.py\", line 1146, in _create_connection_transport\n",
      "    await waiter\n",
      "  File \"/home/research1/miniconda3/envs/openpi_io/lib/python3.11/asyncio/selector_events.py\", line 974, in _read_ready__get_buffer\n",
      "    nbytes = self._sock.recv_into(buf)\n",
      "             ^^^^^^^^^^^^^^^^^^^^^^^^^\n",
      "ConnectionResetError: [Errno 104] Connection reset by peer\n",
      "\n",
      "The above exception was the direct cause of the following exception:\n",
      "\n",
      "Traceback (most recent call last):\n",
      "  File \"/home/research1/miniconda3/envs/openpi_io/lib/python3.11/site-packages/gcsfs/retry.py\", line 135, in retry_request\n",
      "    return await func(*args, **kwargs)\n",
      "           ^^^^^^^^^^^^^^^^^^^^^^^^^^^\n",
      "  File \"/home/research1/miniconda3/envs/openpi_io/lib/python3.11/site-packages/gcsfs/core.py\", line 460, in _request\n",
      "    async with self.session.request(\n",
      "  File \"/home/research1/miniconda3/envs/openpi_io/lib/python3.11/site-packages/aiohttp/client.py\", line 1482, in __aenter__\n",
      "    self._resp: _RetType = await self._coro\n",
      "                           ^^^^^^^^^^^^^^^^\n",
      "  File \"/home/research1/miniconda3/envs/openpi_io/lib/python3.11/site-packages/aiohttp/client.py\", line 770, in _request\n",
      "    resp = await handler(req)\n",
      "           ^^^^^^^^^^^^^^^^^^\n",
      "  File \"/home/research1/miniconda3/envs/openpi_io/lib/python3.11/site-packages/aiohttp/client.py\", line 725, in _connect_and_send_request\n",
      "    conn = await self._connector.connect(\n",
      "           ^^^^^^^^^^^^^^^^^^^^^^^^^^^^^^\n",
      "  File \"/home/research1/miniconda3/envs/openpi_io/lib/python3.11/site-packages/aiohttp/connector.py\", line 622, in connect\n",
      "    proto = await self._create_connection(req, traces, timeout)\n",
      "            ^^^^^^^^^^^^^^^^^^^^^^^^^^^^^^^^^^^^^^^^^^^^^^^^^^^\n",
      "  File \"/home/research1/miniconda3/envs/openpi_io/lib/python3.11/site-packages/aiohttp/connector.py\", line 1189, in _create_connection\n",
      "    _, proto = await self._create_direct_connection(req, traces, timeout)\n",
      "               ^^^^^^^^^^^^^^^^^^^^^^^^^^^^^^^^^^^^^^^^^^^^^^^^^^^^^^^^^^\n",
      "  File \"/home/research1/miniconda3/envs/openpi_io/lib/python3.11/site-packages/aiohttp/connector.py\", line 1561, in _create_direct_connection\n",
      "    raise last_exc\n",
      "  File \"/home/research1/miniconda3/envs/openpi_io/lib/python3.11/site-packages/aiohttp/connector.py\", line 1530, in _create_direct_connection\n",
      "    transp, proto = await self._wrap_create_connection(\n",
      "                    ^^^^^^^^^^^^^^^^^^^^^^^^^^^^^^^^^^^\n",
      "  File \"/home/research1/miniconda3/envs/openpi_io/lib/python3.11/site-packages/aiohttp/connector.py\", line 1271, in _wrap_create_connection\n",
      "    raise client_error(req.connection_key, exc) from exc\n",
      "aiohttp.client_exceptions.ClientConnectorError: Cannot connect to host storage.googleapis.com:443 ssl:default [Connection reset by peer]\n"
     ]
    },
    {
     "ename": "ClientConnectorError",
     "evalue": "Cannot connect to host storage.googleapis.com:443 ssl:default [Connection reset by peer]",
     "output_type": "error",
     "traceback": [
      "\u001B[31m---------------------------------------------------------------------------\u001B[39m",
      "\u001B[31mConnectionResetError\u001B[39m                      Traceback (most recent call last)",
      "\u001B[36mFile \u001B[39m\u001B[32m~/miniconda3/envs/openpi_io/lib/python3.11/site-packages/aiohttp/connector.py:1263\u001B[39m, in \u001B[36mTCPConnector._wrap_create_connection\u001B[39m\u001B[34m(self, addr_infos, req, timeout, client_error, *args, **kwargs)\u001B[39m\n\u001B[32m   1262\u001B[39m             kwargs[\u001B[33m\"\u001B[39m\u001B[33mssl_shutdown_timeout\u001B[39m\u001B[33m\"\u001B[39m] = \u001B[38;5;28mself\u001B[39m._ssl_shutdown_timeout\n\u001B[32m-> \u001B[39m\u001B[32m1263\u001B[39m         \u001B[38;5;28;01mreturn\u001B[39;00m \u001B[38;5;28;01mawait\u001B[39;00m \u001B[38;5;28mself\u001B[39m._loop.create_connection(*args, **kwargs, sock=sock)\n\u001B[32m   1264\u001B[39m \u001B[38;5;28;01mexcept\u001B[39;00m cert_errors \u001B[38;5;28;01mas\u001B[39;00m exc:\n",
      "\u001B[36mFile \u001B[39m\u001B[32m~/miniconda3/envs/openpi_io/lib/python3.11/asyncio/base_events.py:1113\u001B[39m, in \u001B[36mBaseEventLoop.create_connection\u001B[39m\u001B[34m(self, protocol_factory, host, port, ssl, family, proto, flags, sock, local_addr, server_hostname, ssl_handshake_timeout, ssl_shutdown_timeout, happy_eyeballs_delay, interleave)\u001B[39m\n\u001B[32m   1110\u001B[39m         \u001B[38;5;28;01mraise\u001B[39;00m \u001B[38;5;167;01mValueError\u001B[39;00m(\n\u001B[32m   1111\u001B[39m             \u001B[33mf\u001B[39m\u001B[33m'\u001B[39m\u001B[33mA Stream Socket was expected, got \u001B[39m\u001B[38;5;132;01m{\u001B[39;00msock\u001B[38;5;132;01m!r}\u001B[39;00m\u001B[33m'\u001B[39m)\n\u001B[32m-> \u001B[39m\u001B[32m1113\u001B[39m transport, protocol = \u001B[38;5;28;01mawait\u001B[39;00m \u001B[38;5;28mself\u001B[39m._create_connection_transport(\n\u001B[32m   1114\u001B[39m     sock, protocol_factory, ssl, server_hostname,\n\u001B[32m   1115\u001B[39m     ssl_handshake_timeout=ssl_handshake_timeout,\n\u001B[32m   1116\u001B[39m     ssl_shutdown_timeout=ssl_shutdown_timeout)\n\u001B[32m   1117\u001B[39m \u001B[38;5;28;01mif\u001B[39;00m \u001B[38;5;28mself\u001B[39m._debug:\n\u001B[32m   1118\u001B[39m     \u001B[38;5;66;03m# Get the socket from the transport because SSL transport closes\u001B[39;00m\n\u001B[32m   1119\u001B[39m     \u001B[38;5;66;03m# the old socket and creates a new SSL socket\u001B[39;00m\n",
      "\u001B[36mFile \u001B[39m\u001B[32m~/miniconda3/envs/openpi_io/lib/python3.11/asyncio/base_events.py:1146\u001B[39m, in \u001B[36mBaseEventLoop._create_connection_transport\u001B[39m\u001B[34m(self, sock, protocol_factory, ssl, server_hostname, server_side, ssl_handshake_timeout, ssl_shutdown_timeout)\u001B[39m\n\u001B[32m   1145\u001B[39m \u001B[38;5;28;01mtry\u001B[39;00m:\n\u001B[32m-> \u001B[39m\u001B[32m1146\u001B[39m     \u001B[38;5;28;01mawait\u001B[39;00m waiter\n\u001B[32m   1147\u001B[39m \u001B[38;5;28;01mexcept\u001B[39;00m:\n",
      "\u001B[36mFile \u001B[39m\u001B[32m~/miniconda3/envs/openpi_io/lib/python3.11/asyncio/selector_events.py:974\u001B[39m, in \u001B[36m_SelectorSocketTransport._read_ready__get_buffer\u001B[39m\u001B[34m(self)\u001B[39m\n\u001B[32m    973\u001B[39m \u001B[38;5;28;01mtry\u001B[39;00m:\n\u001B[32m--> \u001B[39m\u001B[32m974\u001B[39m     nbytes = \u001B[38;5;28mself\u001B[39m._sock.recv_into(buf)\n\u001B[32m    975\u001B[39m \u001B[38;5;28;01mexcept\u001B[39;00m (\u001B[38;5;167;01mBlockingIOError\u001B[39;00m, \u001B[38;5;167;01mInterruptedError\u001B[39;00m):\n",
      "\u001B[31mConnectionResetError\u001B[39m: [Errno 104] Connection reset by peer",
      "\nThe above exception was the direct cause of the following exception:\n",
      "\u001B[31mClientConnectorError\u001B[39m                      Traceback (most recent call last)",
      "\u001B[36mCell\u001B[39m\u001B[36m \u001B[39m\u001B[32mIn[3]\u001B[39m\u001B[32m, line 2\u001B[39m\n\u001B[32m      1\u001B[39m config = _config.get_config(\u001B[33m\"\u001B[39m\u001B[33mpi0_fast_droid\u001B[39m\u001B[33m\"\u001B[39m)\n\u001B[32m----> \u001B[39m\u001B[32m2\u001B[39m checkpoint_dir = download.maybe_download(\u001B[33m\"\u001B[39m\u001B[33mgs://openpi-assets/checkpoints/pi0_fast_droid\u001B[39m\u001B[33m\"\u001B[39m)\n\u001B[32m      4\u001B[39m \u001B[38;5;66;03m# Create a trained policy.\u001B[39;00m\n\u001B[32m      5\u001B[39m policy = _policy_config.create_trained_policy(config, checkpoint_dir)\n",
      "\u001B[36mFile \u001B[39m\u001B[32m~/project/openpi_io_main/src/openpi/shared/download.py:90\u001B[39m, in \u001B[36mmaybe_download\u001B[39m\u001B[34m(url, force_download, **kwargs)\u001B[39m\n\u001B[32m     88\u001B[39m logger.info(\u001B[33mf\u001B[39m\u001B[33m\"\u001B[39m\u001B[33mDownloading \u001B[39m\u001B[38;5;132;01m{\u001B[39;00murl\u001B[38;5;132;01m}\u001B[39;00m\u001B[33m to \u001B[39m\u001B[38;5;132;01m{\u001B[39;00mlocal_path\u001B[38;5;132;01m}\u001B[39;00m\u001B[33m\"\u001B[39m)\n\u001B[32m     89\u001B[39m scratch_path = local_path.with_suffix(\u001B[33m\"\u001B[39m\u001B[33m.partial\u001B[39m\u001B[33m\"\u001B[39m)\n\u001B[32m---> \u001B[39m\u001B[32m90\u001B[39m _download_fsspec(url, scratch_path, **kwargs)\n\u001B[32m     92\u001B[39m shutil.move(scratch_path, local_path)\n\u001B[32m     93\u001B[39m _ensure_permissions(local_path)\n",
      "\u001B[36mFile \u001B[39m\u001B[32m~/project/openpi_io_main/src/openpi/shared/download.py:108\u001B[39m, in \u001B[36m_download_fsspec\u001B[39m\u001B[34m(url, local_path, **kwargs)\u001B[39m\n\u001B[32m    106\u001B[39m \u001B[38;5;250m\u001B[39m\u001B[33;03m\"\"\"Download a file from a remote filesystem to the local cache, and return the local path.\"\"\"\u001B[39;00m\n\u001B[32m    107\u001B[39m fs, _ = fsspec.core.url_to_fs(url, **kwargs)\n\u001B[32m--> \u001B[39m\u001B[32m108\u001B[39m info = fs.info(url)\n\u001B[32m    109\u001B[39m \u001B[38;5;66;03m# Folders are represented by 0-byte objects with a trailing forward slash.\u001B[39;00m\n\u001B[32m    110\u001B[39m \u001B[38;5;28;01mif\u001B[39;00m is_dir := (info[\u001B[33m\"\u001B[39m\u001B[33mtype\u001B[39m\u001B[33m\"\u001B[39m] == \u001B[33m\"\u001B[39m\u001B[33mdirectory\u001B[39m\u001B[33m\"\u001B[39m \u001B[38;5;129;01mor\u001B[39;00m (info[\u001B[33m\"\u001B[39m\u001B[33msize\u001B[39m\u001B[33m\"\u001B[39m] == \u001B[32m0\u001B[39m \u001B[38;5;129;01mand\u001B[39;00m info[\u001B[33m\"\u001B[39m\u001B[33mname\u001B[39m\u001B[33m\"\u001B[39m].endswith(\u001B[33m\"\u001B[39m\u001B[33m/\u001B[39m\u001B[33m\"\u001B[39m))):\n",
      "\u001B[36mFile \u001B[39m\u001B[32m~/miniconda3/envs/openpi_io/lib/python3.11/site-packages/fsspec/asyn.py:118\u001B[39m, in \u001B[36msync_wrapper.<locals>.wrapper\u001B[39m\u001B[34m(*args, **kwargs)\u001B[39m\n\u001B[32m    115\u001B[39m \u001B[38;5;129m@functools\u001B[39m.wraps(func)\n\u001B[32m    116\u001B[39m \u001B[38;5;28;01mdef\u001B[39;00m\u001B[38;5;250m \u001B[39m\u001B[34mwrapper\u001B[39m(*args, **kwargs):\n\u001B[32m    117\u001B[39m     \u001B[38;5;28mself\u001B[39m = obj \u001B[38;5;129;01mor\u001B[39;00m args[\u001B[32m0\u001B[39m]\n\u001B[32m--> \u001B[39m\u001B[32m118\u001B[39m     \u001B[38;5;28;01mreturn\u001B[39;00m sync(\u001B[38;5;28mself\u001B[39m.loop, func, *args, **kwargs)\n",
      "\u001B[36mFile \u001B[39m\u001B[32m~/miniconda3/envs/openpi_io/lib/python3.11/site-packages/fsspec/asyn.py:103\u001B[39m, in \u001B[36msync\u001B[39m\u001B[34m(loop, func, timeout, *args, **kwargs)\u001B[39m\n\u001B[32m    101\u001B[39m     \u001B[38;5;28;01mraise\u001B[39;00m FSTimeoutError \u001B[38;5;28;01mfrom\u001B[39;00m\u001B[38;5;250m \u001B[39m\u001B[34;01mreturn_result\u001B[39;00m\n\u001B[32m    102\u001B[39m \u001B[38;5;28;01melif\u001B[39;00m \u001B[38;5;28misinstance\u001B[39m(return_result, \u001B[38;5;167;01mBaseException\u001B[39;00m):\n\u001B[32m--> \u001B[39m\u001B[32m103\u001B[39m     \u001B[38;5;28;01mraise\u001B[39;00m return_result\n\u001B[32m    104\u001B[39m \u001B[38;5;28;01melse\u001B[39;00m:\n\u001B[32m    105\u001B[39m     \u001B[38;5;28;01mreturn\u001B[39;00m return_result\n",
      "\u001B[36mFile \u001B[39m\u001B[32m~/miniconda3/envs/openpi_io/lib/python3.11/site-packages/fsspec/asyn.py:56\u001B[39m, in \u001B[36m_runner\u001B[39m\u001B[34m(event, coro, result, timeout)\u001B[39m\n\u001B[32m     54\u001B[39m     coro = asyncio.wait_for(coro, timeout=timeout)\n\u001B[32m     55\u001B[39m \u001B[38;5;28;01mtry\u001B[39;00m:\n\u001B[32m---> \u001B[39m\u001B[32m56\u001B[39m     result[\u001B[32m0\u001B[39m] = \u001B[38;5;28;01mawait\u001B[39;00m coro\n\u001B[32m     57\u001B[39m \u001B[38;5;28;01mexcept\u001B[39;00m \u001B[38;5;167;01mException\u001B[39;00m \u001B[38;5;28;01mas\u001B[39;00m ex:\n\u001B[32m     58\u001B[39m     result[\u001B[32m0\u001B[39m] = ex\n",
      "\u001B[36mFile \u001B[39m\u001B[32m~/miniconda3/envs/openpi_io/lib/python3.11/site-packages/gcsfs/core.py:1030\u001B[39m, in \u001B[36mGCSFileSystem._info\u001B[39m\u001B[34m(self, path, generation, **kwargs)\u001B[39m\n\u001B[32m   1028\u001B[39m \u001B[38;5;66;03m# Check exact file path\u001B[39;00m\n\u001B[32m   1029\u001B[39m \u001B[38;5;28;01mtry\u001B[39;00m:\n\u001B[32m-> \u001B[39m\u001B[32m1030\u001B[39m     exact = \u001B[38;5;28;01mawait\u001B[39;00m \u001B[38;5;28mself\u001B[39m._get_object(path)\n\u001B[32m   1031\u001B[39m     \u001B[38;5;66;03m# this condition finds a \"placeholder\" - still need to check if it's a directory\u001B[39;00m\n\u001B[32m   1032\u001B[39m     \u001B[38;5;28;01mif\u001B[39;00m \u001B[38;5;129;01mnot\u001B[39;00m _is_directory_marker(exact):\n",
      "\u001B[36mFile \u001B[39m\u001B[32m~/miniconda3/envs/openpi_io/lib/python3.11/site-packages/gcsfs/core.py:561\u001B[39m, in \u001B[36mGCSFileSystem._get_object\u001B[39m\u001B[34m(self, path)\u001B[39m\n\u001B[32m    558\u001B[39m \u001B[38;5;66;03m# Work around various permission settings. Prefer an object get (storage.objects.get), but\u001B[39;00m\n\u001B[32m    559\u001B[39m \u001B[38;5;66;03m# fall back to a bucket list + filter to object name (storage.objects.list).\u001B[39;00m\n\u001B[32m    560\u001B[39m \u001B[38;5;28;01mtry\u001B[39;00m:\n\u001B[32m--> \u001B[39m\u001B[32m561\u001B[39m     res = \u001B[38;5;28;01mawait\u001B[39;00m \u001B[38;5;28mself\u001B[39m._call(\n\u001B[32m    562\u001B[39m         \u001B[33m\"\u001B[39m\u001B[33mGET\u001B[39m\u001B[33m\"\u001B[39m, \u001B[33m\"\u001B[39m\u001B[33mb/\u001B[39m\u001B[38;5;132;01m{}\u001B[39;00m\u001B[33m/o/\u001B[39m\u001B[38;5;132;01m{}\u001B[39;00m\u001B[33m\"\u001B[39m, bucket, key, json_out=\u001B[38;5;28;01mTrue\u001B[39;00m, generation=generation\n\u001B[32m    563\u001B[39m     )\n\u001B[32m    564\u001B[39m \u001B[38;5;28;01mexcept\u001B[39;00m \u001B[38;5;167;01mOSError\u001B[39;00m \u001B[38;5;28;01mas\u001B[39;00m e:\n\u001B[32m    565\u001B[39m     \u001B[38;5;28;01mif\u001B[39;00m \u001B[38;5;129;01mnot\u001B[39;00m \u001B[38;5;28mstr\u001B[39m(e).startswith(\u001B[33m\"\u001B[39m\u001B[33mForbidden\u001B[39m\u001B[33m\"\u001B[39m):\n",
      "\u001B[36mFile \u001B[39m\u001B[32m~/miniconda3/envs/openpi_io/lib/python3.11/site-packages/gcsfs/core.py:481\u001B[39m, in \u001B[36mGCSFileSystem._call\u001B[39m\u001B[34m(self, method, path, json_out, info_out, *args, **kwargs)\u001B[39m\n\u001B[32m    477\u001B[39m \u001B[38;5;28;01masync\u001B[39;00m \u001B[38;5;28;01mdef\u001B[39;00m\u001B[38;5;250m \u001B[39m\u001B[34m_call\u001B[39m(\n\u001B[32m    478\u001B[39m     \u001B[38;5;28mself\u001B[39m, method, path, *args, json_out=\u001B[38;5;28;01mFalse\u001B[39;00m, info_out=\u001B[38;5;28;01mFalse\u001B[39;00m, **kwargs\n\u001B[32m    479\u001B[39m ):\n\u001B[32m    480\u001B[39m     logger.debug(\u001B[33mf\u001B[39m\u001B[33m\"\u001B[39m\u001B[38;5;132;01m{\u001B[39;00mmethod.upper()\u001B[38;5;132;01m}\u001B[39;00m\u001B[33m: \u001B[39m\u001B[38;5;132;01m{\u001B[39;00mpath\u001B[38;5;132;01m}\u001B[39;00m\u001B[33m, \u001B[39m\u001B[38;5;132;01m{\u001B[39;00margs\u001B[38;5;132;01m}\u001B[39;00m\u001B[33m, \u001B[39m\u001B[38;5;132;01m{\u001B[39;00mkwargs.get(\u001B[33m'\u001B[39m\u001B[33mheaders\u001B[39m\u001B[33m'\u001B[39m)\u001B[38;5;132;01m}\u001B[39;00m\u001B[33m\"\u001B[39m)\n\u001B[32m--> \u001B[39m\u001B[32m481\u001B[39m     status, headers, info, contents = \u001B[38;5;28;01mawait\u001B[39;00m \u001B[38;5;28mself\u001B[39m._request(\n\u001B[32m    482\u001B[39m         method, path, *args, **kwargs\n\u001B[32m    483\u001B[39m     )\n\u001B[32m    484\u001B[39m     \u001B[38;5;28;01mif\u001B[39;00m json_out:\n\u001B[32m    485\u001B[39m         \u001B[38;5;28;01mreturn\u001B[39;00m json.loads(contents)\n",
      "\u001B[36mFile \u001B[39m\u001B[32m~/miniconda3/envs/openpi_io/lib/python3.11/site-packages/decorator.py:221\u001B[39m, in \u001B[36mdecorate.<locals>.fun\u001B[39m\u001B[34m(*args, **kw)\u001B[39m\n\u001B[32m    219\u001B[39m \u001B[38;5;28;01mif\u001B[39;00m \u001B[38;5;129;01mnot\u001B[39;00m kwsyntax:\n\u001B[32m    220\u001B[39m     args, kw = fix(args, kw, sig)\n\u001B[32m--> \u001B[39m\u001B[32m221\u001B[39m \u001B[38;5;28;01mreturn\u001B[39;00m \u001B[38;5;28;01mawait\u001B[39;00m caller(func, *(extras + args), **kw)\n",
      "\u001B[36mFile \u001B[39m\u001B[32m~/miniconda3/envs/openpi_io/lib/python3.11/site-packages/gcsfs/retry.py:165\u001B[39m, in \u001B[36mretry_request\u001B[39m\u001B[34m(func, retries, *args, **kwargs)\u001B[39m\n\u001B[32m    163\u001B[39m \u001B[38;5;28;01mif\u001B[39;00m retry == retries - \u001B[32m1\u001B[39m:\n\u001B[32m    164\u001B[39m     logger.exception(\u001B[33mf\u001B[39m\u001B[33m\"\u001B[39m\u001B[38;5;132;01m{\u001B[39;00mfunc.\u001B[34m__name__\u001B[39m\u001B[38;5;132;01m}\u001B[39;00m\u001B[33m out of retries on exception: \u001B[39m\u001B[38;5;132;01m{\u001B[39;00me\u001B[38;5;132;01m}\u001B[39;00m\u001B[33m\"\u001B[39m)\n\u001B[32m--> \u001B[39m\u001B[32m165\u001B[39m     \u001B[38;5;28;01mraise\u001B[39;00m e\n\u001B[32m    166\u001B[39m \u001B[38;5;28;01mif\u001B[39;00m is_retriable(e):\n\u001B[32m    167\u001B[39m     logger.debug(\u001B[33mf\u001B[39m\u001B[33m\"\u001B[39m\u001B[38;5;132;01m{\u001B[39;00mfunc.\u001B[34m__name__\u001B[39m\u001B[38;5;132;01m}\u001B[39;00m\u001B[33m retrying after exception: \u001B[39m\u001B[38;5;132;01m{\u001B[39;00me\u001B[38;5;132;01m}\u001B[39;00m\u001B[33m\"\u001B[39m)\n",
      "\u001B[36mFile \u001B[39m\u001B[32m~/miniconda3/envs/openpi_io/lib/python3.11/site-packages/gcsfs/retry.py:135\u001B[39m, in \u001B[36mretry_request\u001B[39m\u001B[34m(func, retries, *args, **kwargs)\u001B[39m\n\u001B[32m    133\u001B[39m     \u001B[38;5;28;01mif\u001B[39;00m retry > \u001B[32m0\u001B[39m:\n\u001B[32m    134\u001B[39m         \u001B[38;5;28;01mawait\u001B[39;00m asyncio.sleep(\u001B[38;5;28mmin\u001B[39m(random.random() + \u001B[32m2\u001B[39m ** (retry - \u001B[32m1\u001B[39m), \u001B[32m32\u001B[39m))\n\u001B[32m--> \u001B[39m\u001B[32m135\u001B[39m     \u001B[38;5;28;01mreturn\u001B[39;00m \u001B[38;5;28;01mawait\u001B[39;00m func(*args, **kwargs)\n\u001B[32m    136\u001B[39m \u001B[38;5;28;01mexcept\u001B[39;00m (\n\u001B[32m    137\u001B[39m     HttpError,\n\u001B[32m    138\u001B[39m     requests.exceptions.RequestException,\n\u001B[32m   (...)\u001B[39m\u001B[32m    141\u001B[39m     aiohttp.client_exceptions.ClientError,\n\u001B[32m    142\u001B[39m ) \u001B[38;5;28;01mas\u001B[39;00m e:\n\u001B[32m    143\u001B[39m     \u001B[38;5;28;01mif\u001B[39;00m (\n\u001B[32m    144\u001B[39m         \u001B[38;5;28misinstance\u001B[39m(e, HttpError)\n\u001B[32m    145\u001B[39m         \u001B[38;5;129;01mand\u001B[39;00m e.code == \u001B[32m400\u001B[39m\n\u001B[32m    146\u001B[39m         \u001B[38;5;129;01mand\u001B[39;00m \u001B[33m\"\u001B[39m\u001B[33mrequester pays\u001B[39m\u001B[33m\"\u001B[39m \u001B[38;5;129;01min\u001B[39;00m e.message\n\u001B[32m    147\u001B[39m     ):\n",
      "\u001B[36mFile \u001B[39m\u001B[32m~/miniconda3/envs/openpi_io/lib/python3.11/site-packages/gcsfs/core.py:460\u001B[39m, in \u001B[36mGCSFileSystem._request\u001B[39m\u001B[34m(self, method, path, headers, json, data, *args, **kwargs)\u001B[39m\n\u001B[32m    458\u001B[39m \u001B[38;5;28;01mif\u001B[39;00m \u001B[38;5;28mhasattr\u001B[39m(data, \u001B[33m\"\u001B[39m\u001B[33mseek\u001B[39m\u001B[33m\"\u001B[39m):\n\u001B[32m    459\u001B[39m     data.seek(\u001B[32m0\u001B[39m)\n\u001B[32m--> \u001B[39m\u001B[32m460\u001B[39m \u001B[38;5;28;01masync\u001B[39;00m \u001B[38;5;28;01mwith\u001B[39;00m \u001B[38;5;28mself\u001B[39m.session.request(\n\u001B[32m    461\u001B[39m     method=method,\n\u001B[32m    462\u001B[39m     url=\u001B[38;5;28mself\u001B[39m._format_path(path, args),\n\u001B[32m    463\u001B[39m     params=\u001B[38;5;28mself\u001B[39m._get_params(kwargs),\n\u001B[32m    464\u001B[39m     json=json,\n\u001B[32m    465\u001B[39m     headers=\u001B[38;5;28mself\u001B[39m._get_headers(headers),\n\u001B[32m    466\u001B[39m     data=data,\n\u001B[32m    467\u001B[39m     timeout=\u001B[38;5;28mself\u001B[39m.requests_timeout,\n\u001B[32m    468\u001B[39m ) \u001B[38;5;28;01mas\u001B[39;00m r:\n\u001B[32m    469\u001B[39m     status = r.status\n\u001B[32m    470\u001B[39m     headers = r.headers\n",
      "\u001B[36mFile \u001B[39m\u001B[32m~/miniconda3/envs/openpi_io/lib/python3.11/site-packages/aiohttp/client.py:1482\u001B[39m, in \u001B[36m_BaseRequestContextManager.__aenter__\u001B[39m\u001B[34m(self)\u001B[39m\n\u001B[32m   1481\u001B[39m \u001B[38;5;28;01masync\u001B[39;00m \u001B[38;5;28;01mdef\u001B[39;00m\u001B[38;5;250m \u001B[39m\u001B[34m__aenter__\u001B[39m(\u001B[38;5;28mself\u001B[39m) -> _RetType:\n\u001B[32m-> \u001B[39m\u001B[32m1482\u001B[39m     \u001B[38;5;28mself\u001B[39m._resp: _RetType = \u001B[38;5;28;01mawait\u001B[39;00m \u001B[38;5;28mself\u001B[39m._coro\n\u001B[32m   1483\u001B[39m     \u001B[38;5;28;01mreturn\u001B[39;00m \u001B[38;5;28;01mawait\u001B[39;00m \u001B[38;5;28mself\u001B[39m._resp.\u001B[34m__aenter__\u001B[39m()\n",
      "\u001B[36mFile \u001B[39m\u001B[32m~/miniconda3/envs/openpi_io/lib/python3.11/site-packages/aiohttp/client.py:770\u001B[39m, in \u001B[36mClientSession._request\u001B[39m\u001B[34m(self, method, str_or_url, params, data, json, cookies, headers, skip_auto_headers, auth, allow_redirects, max_redirects, compress, chunked, expect100, raise_for_status, read_until_eof, proxy, proxy_auth, timeout, verify_ssl, fingerprint, ssl_context, ssl, server_hostname, proxy_headers, trace_request_ctx, read_bufsize, auto_decompress, max_line_size, max_field_size, middlewares)\u001B[39m\n\u001B[32m    767\u001B[39m     handler = _connect_and_send_request\n\u001B[32m    769\u001B[39m \u001B[38;5;28;01mtry\u001B[39;00m:\n\u001B[32m--> \u001B[39m\u001B[32m770\u001B[39m     resp = \u001B[38;5;28;01mawait\u001B[39;00m handler(req)\n\u001B[32m    771\u001B[39m \u001B[38;5;66;03m# Client connector errors should not be retried\u001B[39;00m\n\u001B[32m    772\u001B[39m \u001B[38;5;28;01mexcept\u001B[39;00m (\n\u001B[32m    773\u001B[39m     ConnectionTimeoutError,\n\u001B[32m    774\u001B[39m     ClientConnectorError,\n\u001B[32m    775\u001B[39m     ClientConnectorCertificateError,\n\u001B[32m    776\u001B[39m     ClientConnectorSSLError,\n\u001B[32m    777\u001B[39m ):\n",
      "\u001B[36mFile \u001B[39m\u001B[32m~/miniconda3/envs/openpi_io/lib/python3.11/site-packages/aiohttp/client.py:725\u001B[39m, in \u001B[36mClientSession._request.<locals>._connect_and_send_request\u001B[39m\u001B[34m(req)\u001B[39m\n\u001B[32m    723\u001B[39m \u001B[38;5;28;01massert\u001B[39;00m \u001B[38;5;28mself\u001B[39m._connector \u001B[38;5;129;01mis\u001B[39;00m \u001B[38;5;129;01mnot\u001B[39;00m \u001B[38;5;28;01mNone\u001B[39;00m\n\u001B[32m    724\u001B[39m \u001B[38;5;28;01mtry\u001B[39;00m:\n\u001B[32m--> \u001B[39m\u001B[32m725\u001B[39m     conn = \u001B[38;5;28;01mawait\u001B[39;00m \u001B[38;5;28mself\u001B[39m._connector.connect(\n\u001B[32m    726\u001B[39m         req, traces=traces, timeout=real_timeout\n\u001B[32m    727\u001B[39m     )\n\u001B[32m    728\u001B[39m \u001B[38;5;28;01mexcept\u001B[39;00m asyncio.TimeoutError \u001B[38;5;28;01mas\u001B[39;00m exc:\n\u001B[32m    729\u001B[39m     \u001B[38;5;28;01mraise\u001B[39;00m ConnectionTimeoutError(\n\u001B[32m    730\u001B[39m         \u001B[33mf\u001B[39m\u001B[33m\"\u001B[39m\u001B[33mConnection timeout to host \u001B[39m\u001B[38;5;132;01m{\u001B[39;00mreq.url\u001B[38;5;132;01m}\u001B[39;00m\u001B[33m\"\u001B[39m\n\u001B[32m    731\u001B[39m     ) \u001B[38;5;28;01mfrom\u001B[39;00m\u001B[38;5;250m \u001B[39m\u001B[34;01mexc\u001B[39;00m\n",
      "\u001B[36mFile \u001B[39m\u001B[32m~/miniconda3/envs/openpi_io/lib/python3.11/site-packages/aiohttp/connector.py:622\u001B[39m, in \u001B[36mBaseConnector.connect\u001B[39m\u001B[34m(self, req, traces, timeout)\u001B[39m\n\u001B[32m    620\u001B[39m     \u001B[38;5;28;01mfor\u001B[39;00m trace \u001B[38;5;129;01min\u001B[39;00m traces:\n\u001B[32m    621\u001B[39m         \u001B[38;5;28;01mawait\u001B[39;00m trace.send_connection_create_start()\n\u001B[32m--> \u001B[39m\u001B[32m622\u001B[39m proto = \u001B[38;5;28;01mawait\u001B[39;00m \u001B[38;5;28mself\u001B[39m._create_connection(req, traces, timeout)\n\u001B[32m    623\u001B[39m \u001B[38;5;28;01mif\u001B[39;00m traces:\n\u001B[32m    624\u001B[39m     \u001B[38;5;28;01mfor\u001B[39;00m trace \u001B[38;5;129;01min\u001B[39;00m traces:\n",
      "\u001B[36mFile \u001B[39m\u001B[32m~/miniconda3/envs/openpi_io/lib/python3.11/site-packages/aiohttp/connector.py:1189\u001B[39m, in \u001B[36mTCPConnector._create_connection\u001B[39m\u001B[34m(self, req, traces, timeout)\u001B[39m\n\u001B[32m   1187\u001B[39m     _, proto = \u001B[38;5;28;01mawait\u001B[39;00m \u001B[38;5;28mself\u001B[39m._create_proxy_connection(req, traces, timeout)\n\u001B[32m   1188\u001B[39m \u001B[38;5;28;01melse\u001B[39;00m:\n\u001B[32m-> \u001B[39m\u001B[32m1189\u001B[39m     _, proto = \u001B[38;5;28;01mawait\u001B[39;00m \u001B[38;5;28mself\u001B[39m._create_direct_connection(req, traces, timeout)\n\u001B[32m   1191\u001B[39m \u001B[38;5;28;01mreturn\u001B[39;00m proto\n",
      "\u001B[36mFile \u001B[39m\u001B[32m~/miniconda3/envs/openpi_io/lib/python3.11/site-packages/aiohttp/connector.py:1561\u001B[39m, in \u001B[36mTCPConnector._create_direct_connection\u001B[39m\u001B[34m(self, req, traces, timeout, client_error)\u001B[39m\n\u001B[32m   1559\u001B[39m \u001B[38;5;28;01melse\u001B[39;00m:\n\u001B[32m   1560\u001B[39m     \u001B[38;5;28;01massert\u001B[39;00m last_exc \u001B[38;5;129;01mis\u001B[39;00m \u001B[38;5;129;01mnot\u001B[39;00m \u001B[38;5;28;01mNone\u001B[39;00m\n\u001B[32m-> \u001B[39m\u001B[32m1561\u001B[39m     \u001B[38;5;28;01mraise\u001B[39;00m last_exc\n",
      "\u001B[36mFile \u001B[39m\u001B[32m~/miniconda3/envs/openpi_io/lib/python3.11/site-packages/aiohttp/connector.py:1530\u001B[39m, in \u001B[36mTCPConnector._create_direct_connection\u001B[39m\u001B[34m(self, req, traces, timeout, client_error)\u001B[39m\n\u001B[32m   1525\u001B[39m server_hostname = (\n\u001B[32m   1526\u001B[39m     (req.server_hostname \u001B[38;5;129;01mor\u001B[39;00m host).rstrip(\u001B[33m\"\u001B[39m\u001B[33m.\u001B[39m\u001B[33m\"\u001B[39m) \u001B[38;5;28;01mif\u001B[39;00m sslcontext \u001B[38;5;28;01melse\u001B[39;00m \u001B[38;5;28;01mNone\u001B[39;00m\n\u001B[32m   1527\u001B[39m )\n\u001B[32m   1529\u001B[39m \u001B[38;5;28;01mtry\u001B[39;00m:\n\u001B[32m-> \u001B[39m\u001B[32m1530\u001B[39m     transp, proto = \u001B[38;5;28;01mawait\u001B[39;00m \u001B[38;5;28mself\u001B[39m._wrap_create_connection(\n\u001B[32m   1531\u001B[39m         \u001B[38;5;28mself\u001B[39m._factory,\n\u001B[32m   1532\u001B[39m         timeout=timeout,\n\u001B[32m   1533\u001B[39m         ssl=sslcontext,\n\u001B[32m   1534\u001B[39m         addr_infos=addr_infos,\n\u001B[32m   1535\u001B[39m         server_hostname=server_hostname,\n\u001B[32m   1536\u001B[39m         req=req,\n\u001B[32m   1537\u001B[39m         client_error=client_error,\n\u001B[32m   1538\u001B[39m     )\n\u001B[32m   1539\u001B[39m \u001B[38;5;28;01mexcept\u001B[39;00m (ClientConnectorError, asyncio.TimeoutError) \u001B[38;5;28;01mas\u001B[39;00m exc:\n\u001B[32m   1540\u001B[39m     last_exc = exc\n",
      "\u001B[36mFile \u001B[39m\u001B[32m~/miniconda3/envs/openpi_io/lib/python3.11/site-packages/aiohttp/connector.py:1271\u001B[39m, in \u001B[36mTCPConnector._wrap_create_connection\u001B[39m\u001B[34m(self, addr_infos, req, timeout, client_error, *args, **kwargs)\u001B[39m\n\u001B[32m   1269\u001B[39m \u001B[38;5;28;01mif\u001B[39;00m exc.errno \u001B[38;5;129;01mis\u001B[39;00m \u001B[38;5;28;01mNone\u001B[39;00m \u001B[38;5;129;01mand\u001B[39;00m \u001B[38;5;28misinstance\u001B[39m(exc, asyncio.TimeoutError):\n\u001B[32m   1270\u001B[39m     \u001B[38;5;28;01mraise\u001B[39;00m\n\u001B[32m-> \u001B[39m\u001B[32m1271\u001B[39m \u001B[38;5;28;01mraise\u001B[39;00m client_error(req.connection_key, exc) \u001B[38;5;28;01mfrom\u001B[39;00m\u001B[38;5;250m \u001B[39m\u001B[34;01mexc\u001B[39;00m\n",
      "\u001B[31mClientConnectorError\u001B[39m: Cannot connect to host storage.googleapis.com:443 ssl:default [Connection reset by peer]"
     ]
    }
   ],
   "execution_count": 3
  },
  {
   "cell_type": "markdown",
   "metadata": {},
   "source": [
    "# Working with a live model\n",
    "\n",
    "\n",
    "The following example shows how to create a live model from a checkpoint and compute training loss. First, we are going to demonstrate how to do it with fake data.\n"
   ]
  },
  {
   "cell_type": "code",
   "execution_count": null,
   "metadata": {},
   "outputs": [],
   "source": [
    "config = _config.get_config(\"pi0_aloha_sim\")\n",
    "\n",
    "checkpoint_dir = download.maybe_download(\"gs://openpi-assets/checkpoints/pi0_aloha_sim\")\n",
    "key = jax.random.key(0)\n",
    "\n",
    "# Create a model from the checkpoint.\n",
    "model = config.model.load(_model.restore_params(checkpoint_dir / \"params\"))\n",
    "\n",
    "# We can create fake observations and actions to test the model.\n",
    "obs, act = config.model.fake_obs(), config.model.fake_act()\n",
    "\n",
    "# Sample actions from the model.\n",
    "loss = model.compute_loss(key, obs, act)\n",
    "print(\"Loss shape:\", loss.shape)"
   ]
  },
  {
   "cell_type": "markdown",
   "metadata": {},
   "source": [
    "Now, we are going to create a data loader and use a real batch of training data to compute the loss."
   ]
  },
  {
   "cell_type": "code",
   "execution_count": null,
   "metadata": {},
   "outputs": [],
   "source": [
    "# Reduce the batch size to reduce memory usage.\n",
    "config = dataclasses.replace(config, batch_size=2)\n",
    "\n",
    "# Load a single batch of data. This is the same data that will be used during training.\n",
    "# NOTE: In order to make this example self-contained, we are skipping the normalization step\n",
    "# since it requires the normalization statistics to be generated using `compute_norm_stats`.\n",
    "loader = _data_loader.create_data_loader(config, num_batches=1, skip_norm_stats=True)\n",
    "obs, act = next(iter(loader))\n",
    "\n",
    "# Sample actions from the model.\n",
    "loss = model.compute_loss(key, obs, act)\n",
    "\n",
    "# Delete the model to free up memory.\n",
    "del model\n",
    "\n",
    "print(\"Loss shape:\", loss.shape)"
   ]
  }
 ],
 "metadata": {
  "kernelspec": {
   "display_name": ".venv",
   "language": "python",
   "name": "python3"
  },
  "language_info": {
   "codemirror_mode": {
    "name": "ipython",
    "version": 3
   },
   "file_extension": ".py",
   "mimetype": "text/x-python",
   "name": "python",
   "nbconvert_exporter": "python",
   "pygments_lexer": "ipython3",
   "version": "3.11.9"
  }
 },
 "nbformat": 4,
 "nbformat_minor": 2
}
